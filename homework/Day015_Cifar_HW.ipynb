{
  "nbformat": 4,
  "nbformat_minor": 0,
  "metadata": {
    "colab": {
      "name": "Test.ipynb",
      "provenance": [],
      "collapsed_sections": []
    },
    "kernelspec": {
      "name": "python3",
      "display_name": "Python 3"
    },
    "accelerator": "GPU"
  },
  "cells": [
    {
      "cell_type": "code",
      "metadata": {
        "id": "IqZe4cU4was5",
        "colab_type": "code",
        "colab": {}
      },
      "source": [
        "from keras.models import Sequential\n",
        "from keras.layers import Convolution2D\n",
        "from keras.layers import Conv2D\n",
        "from keras.layers import MaxPooling2D\n",
        "from keras.layers import Flatten\n",
        "from keras.layers import Dense\n",
        "from keras.layers import Dropout\n",
        "from keras.layers import BatchNormalization\n",
        "from keras.datasets import cifar10\n",
        "import numpy as np\n",
        "import tensorflow as tf\n",
        "from sklearn.preprocessing import OneHotEncoder\n",
        "\n"
      ],
      "execution_count": 0,
      "outputs": []
    },
    {
      "cell_type": "code",
      "metadata": {
        "id": "3Z_tLSVOwgo4",
        "colab_type": "code",
        "colab": {
          "base_uri": "https://localhost:8080/",
          "height": 34
        },
        "outputId": "65104301-6e15-4a56-fa81-fad90d8010f0"
      },
      "source": [
        "(x_train, y_train), (x_test, y_test) = cifar10.load_data()\n",
        "\n",
        "print(x_train.shape) #(50000, 32, 32, 3)\n",
        "\n",
        "## Normalize Data\n",
        "def normalize(X_train,X_test):\n",
        "        mean = np.mean(X_train,axis=(0,1,2,3))\n",
        "        std = np.std(X_train, axis=(0, 1, 2, 3))\n",
        "        X_train = (X_train-mean)/(std+1e-7)\n",
        "        X_test = (X_test-mean)/(std+1e-7) \n",
        "        return X_train, X_test,mean,std\n",
        "    \n",
        "    \n",
        "## Normalize Training and Testset    \n",
        "x_train, x_test,mean_train,std_train = normalize(x_train, x_test) "
      ],
      "execution_count": 6,
      "outputs": [
        {
          "output_type": "stream",
          "text": [
            "(50000, 32, 32, 3)\n"
          ],
          "name": "stdout"
        }
      ]
    },
    {
      "cell_type": "code",
      "metadata": {
        "id": "7ctVefILwhg6",
        "colab_type": "code",
        "colab": {}
      },
      "source": [
        "## OneHot Label 由(None, 1)-(None, 10)\n",
        "## ex. label=2,變成[0,0,1,0,0,0,0,0,0,0]\n",
        "one_hot=OneHotEncoder()\n",
        "y_train=one_hot.fit_transform(y_train).toarray()\n",
        "y_test=one_hot.transform(y_test).toarray()"
      ],
      "execution_count": 0,
      "outputs": []
    },
    {
      "cell_type": "code",
      "metadata": {
        "id": "6XDwiWdgwicF",
        "colab_type": "code",
        "colab": {
          "base_uri": "https://localhost:8080/",
          "height": 1000
        },
        "outputId": "52a30236-02ec-4941-92bc-b1ec08486d71"
      },
      "source": [
        "input_shape = (32, 32, 3)\n",
        "\n",
        "classifier=Sequential()\n",
        "\n",
        "#卷積組合\n",
        "classifier.add(Conv2D(32, kernel_size=(3, 3),input_shape=input_shape))\n",
        "# classifier.add(Convolution2D('自己設計參數'))#32,3,3,input_shape=(32,32,3),activation='relu''\n",
        "classifier.add(BatchNormalization())\n",
        "\n",
        "'''自己決定MaxPooling2D放在哪裡'''\n",
        "classifier.add(MaxPooling2D(pool_size=(2,2)))\n",
        "\n",
        "#卷積組合\n",
        "# classifier.add(Convolution2D('自己設計參數'))\n",
        "classifier.add(Conv2D(10, kernel_size=(3, 3)))\n",
        "classifier.add(BatchNormalization())\n",
        "\n",
        "#flatten\n",
        "classifier.add(Flatten())\n",
        "\n",
        "#FC\n",
        "classifier.add(Dense(100,activation='relu')) #output_dim=100,activation=relu\n",
        "\n",
        "#輸出\n",
        "classifier.add(Dense(output_dim=10,activation='softmax'))\n",
        "\n",
        "#超過兩個就要選categorical_crossentrophy\n",
        "classifier.compile(optimizer = 'adam', loss = 'categorical_crossentropy', metrics = ['accuracy'])\n",
        "classifier.fit(x_train,y_train,batch_size=100,epochs=100)"
      ],
      "execution_count": 8,
      "outputs": [
        {
          "output_type": "stream",
          "text": [
            "/usr/local/lib/python3.6/dist-packages/ipykernel_launcher.py:25: UserWarning: Update your `Dense` call to the Keras 2 API: `Dense(activation=\"softmax\", units=10)`\n"
          ],
          "name": "stderr"
        },
        {
          "output_type": "stream",
          "text": [
            "Epoch 1/100\n",
            "50000/50000 [==============================] - 5s 90us/step - loss: 1.4313 - acc: 0.5056\n",
            "Epoch 2/100\n",
            "50000/50000 [==============================] - 4s 80us/step - loss: 1.0440 - acc: 0.6390\n",
            "Epoch 3/100\n",
            "50000/50000 [==============================] - 4s 79us/step - loss: 0.9090 - acc: 0.6867\n",
            "Epoch 4/100\n",
            "50000/50000 [==============================] - 4s 81us/step - loss: 0.8127 - acc: 0.7186\n",
            "Epoch 5/100\n",
            "50000/50000 [==============================] - 4s 81us/step - loss: 0.7372 - acc: 0.7447\n",
            "Epoch 6/100\n",
            "50000/50000 [==============================] - 4s 79us/step - loss: 0.6616 - acc: 0.7697\n",
            "Epoch 7/100\n",
            "50000/50000 [==============================] - 4s 79us/step - loss: 0.5980 - acc: 0.7947\n",
            "Epoch 8/100\n",
            "50000/50000 [==============================] - 4s 80us/step - loss: 0.5365 - acc: 0.8129\n",
            "Epoch 9/100\n",
            "50000/50000 [==============================] - 4s 78us/step - loss: 0.4768 - acc: 0.8330\n",
            "Epoch 10/100\n",
            "50000/50000 [==============================] - 4s 80us/step - loss: 0.4304 - acc: 0.8492\n",
            "Epoch 11/100\n",
            "50000/50000 [==============================] - 4s 79us/step - loss: 0.3757 - acc: 0.8702\n",
            "Epoch 12/100\n",
            "50000/50000 [==============================] - 4s 80us/step - loss: 0.3288 - acc: 0.8861\n",
            "Epoch 13/100\n",
            "50000/50000 [==============================] - 4s 79us/step - loss: 0.2978 - acc: 0.8961\n",
            "Epoch 14/100\n",
            "50000/50000 [==============================] - 4s 81us/step - loss: 0.2480 - acc: 0.9150\n",
            "Epoch 15/100\n",
            "50000/50000 [==============================] - 4s 80us/step - loss: 0.2256 - acc: 0.9204\n",
            "Epoch 16/100\n",
            "50000/50000 [==============================] - 4s 80us/step - loss: 0.2102 - acc: 0.9273\n",
            "Epoch 17/100\n",
            "50000/50000 [==============================] - 4s 79us/step - loss: 0.1842 - acc: 0.9370\n",
            "Epoch 18/100\n",
            "50000/50000 [==============================] - 4s 80us/step - loss: 0.1684 - acc: 0.9412\n",
            "Epoch 19/100\n",
            "50000/50000 [==============================] - 4s 80us/step - loss: 0.1474 - acc: 0.9491\n",
            "Epoch 20/100\n",
            "50000/50000 [==============================] - 4s 80us/step - loss: 0.1404 - acc: 0.9520\n",
            "Epoch 21/100\n",
            "50000/50000 [==============================] - 4s 79us/step - loss: 0.1472 - acc: 0.9496\n",
            "Epoch 22/100\n",
            "50000/50000 [==============================] - 4s 80us/step - loss: 0.1222 - acc: 0.9579\n",
            "Epoch 23/100\n",
            "50000/50000 [==============================] - 4s 78us/step - loss: 0.1085 - acc: 0.9626\n",
            "Epoch 24/100\n",
            "50000/50000 [==============================] - 4s 80us/step - loss: 0.0992 - acc: 0.9663\n",
            "Epoch 25/100\n",
            "50000/50000 [==============================] - 4s 80us/step - loss: 0.1158 - acc: 0.9606\n",
            "Epoch 26/100\n",
            "50000/50000 [==============================] - 4s 79us/step - loss: 0.1037 - acc: 0.9650\n",
            "Epoch 27/100\n",
            "50000/50000 [==============================] - 4s 80us/step - loss: 0.0920 - acc: 0.9681\n",
            "Epoch 28/100\n",
            "50000/50000 [==============================] - 4s 81us/step - loss: 0.0973 - acc: 0.9662\n",
            "Epoch 29/100\n",
            "50000/50000 [==============================] - 4s 80us/step - loss: 0.0839 - acc: 0.9717\n",
            "Epoch 30/100\n",
            "50000/50000 [==============================] - 4s 80us/step - loss: 0.0858 - acc: 0.9706\n",
            "Epoch 31/100\n",
            "50000/50000 [==============================] - 4s 80us/step - loss: 0.0841 - acc: 0.9710\n",
            "Epoch 32/100\n",
            "50000/50000 [==============================] - 4s 82us/step - loss: 0.0853 - acc: 0.9705\n",
            "Epoch 33/100\n",
            "50000/50000 [==============================] - 4s 82us/step - loss: 0.0776 - acc: 0.9735\n",
            "Epoch 34/100\n",
            "50000/50000 [==============================] - 4s 81us/step - loss: 0.0677 - acc: 0.9775\n",
            "Epoch 35/100\n",
            "50000/50000 [==============================] - 4s 80us/step - loss: 0.0639 - acc: 0.9786\n",
            "Epoch 36/100\n",
            "50000/50000 [==============================] - 4s 82us/step - loss: 0.0724 - acc: 0.9749\n",
            "Epoch 37/100\n",
            "50000/50000 [==============================] - 4s 81us/step - loss: 0.0877 - acc: 0.9706\n",
            "Epoch 38/100\n",
            "50000/50000 [==============================] - 4s 80us/step - loss: 0.0563 - acc: 0.9806\n",
            "Epoch 39/100\n",
            "50000/50000 [==============================] - 4s 80us/step - loss: 0.0673 - acc: 0.9778\n",
            "Epoch 40/100\n",
            "50000/50000 [==============================] - 4s 80us/step - loss: 0.0735 - acc: 0.9758\n",
            "Epoch 41/100\n",
            "50000/50000 [==============================] - 4s 79us/step - loss: 0.0718 - acc: 0.9754\n",
            "Epoch 42/100\n",
            "50000/50000 [==============================] - 4s 79us/step - loss: 0.0381 - acc: 0.9880\n",
            "Epoch 43/100\n",
            "50000/50000 [==============================] - 4s 78us/step - loss: 0.0595 - acc: 0.9809\n",
            "Epoch 44/100\n",
            "50000/50000 [==============================] - 4s 80us/step - loss: 0.0820 - acc: 0.9724\n",
            "Epoch 45/100\n",
            "50000/50000 [==============================] - 4s 80us/step - loss: 0.0505 - acc: 0.9833\n",
            "Epoch 46/100\n",
            "50000/50000 [==============================] - 4s 81us/step - loss: 0.0436 - acc: 0.9860\n",
            "Epoch 47/100\n",
            "50000/50000 [==============================] - 4s 79us/step - loss: 0.0596 - acc: 0.9802\n",
            "Epoch 48/100\n",
            "50000/50000 [==============================] - 4s 79us/step - loss: 0.0581 - acc: 0.9808\n",
            "Epoch 49/100\n",
            "50000/50000 [==============================] - 4s 79us/step - loss: 0.0575 - acc: 0.9807\n",
            "Epoch 50/100\n",
            "50000/50000 [==============================] - 4s 80us/step - loss: 0.0466 - acc: 0.9843\n",
            "Epoch 51/100\n",
            "50000/50000 [==============================] - 4s 81us/step - loss: 0.0529 - acc: 0.9827\n",
            "Epoch 52/100\n",
            "50000/50000 [==============================] - 4s 80us/step - loss: 0.0550 - acc: 0.9826\n",
            "Epoch 53/100\n",
            "50000/50000 [==============================] - 4s 80us/step - loss: 0.0434 - acc: 0.9862\n",
            "Epoch 54/100\n",
            "50000/50000 [==============================] - 4s 81us/step - loss: 0.0683 - acc: 0.9784\n",
            "Epoch 55/100\n",
            "50000/50000 [==============================] - 4s 81us/step - loss: 0.0469 - acc: 0.9845\n",
            "Epoch 56/100\n",
            "50000/50000 [==============================] - 4s 80us/step - loss: 0.0346 - acc: 0.9889\n",
            "Epoch 57/100\n",
            "50000/50000 [==============================] - 4s 80us/step - loss: 0.0411 - acc: 0.9865\n",
            "Epoch 58/100\n",
            "50000/50000 [==============================] - 4s 79us/step - loss: 0.0461 - acc: 0.9842\n",
            "Epoch 59/100\n",
            "50000/50000 [==============================] - 4s 80us/step - loss: 0.0610 - acc: 0.9802\n",
            "Epoch 60/100\n",
            "50000/50000 [==============================] - 4s 81us/step - loss: 0.0398 - acc: 0.9866\n",
            "Epoch 61/100\n",
            "50000/50000 [==============================] - 4s 81us/step - loss: 0.0325 - acc: 0.9896\n",
            "Epoch 62/100\n",
            "50000/50000 [==============================] - 4s 82us/step - loss: 0.0400 - acc: 0.9871\n",
            "Epoch 63/100\n",
            "50000/50000 [==============================] - 4s 82us/step - loss: 0.0431 - acc: 0.9859\n",
            "Epoch 64/100\n",
            "50000/50000 [==============================] - 4s 83us/step - loss: 0.0490 - acc: 0.9839\n",
            "Epoch 65/100\n",
            "50000/50000 [==============================] - 4s 81us/step - loss: 0.0326 - acc: 0.9892\n",
            "Epoch 66/100\n",
            "50000/50000 [==============================] - 4s 80us/step - loss: 0.0453 - acc: 0.9858\n",
            "Epoch 67/100\n",
            "50000/50000 [==============================] - 4s 81us/step - loss: 0.0501 - acc: 0.9842\n",
            "Epoch 68/100\n",
            "50000/50000 [==============================] - 4s 82us/step - loss: 0.0399 - acc: 0.9874\n",
            "Epoch 69/100\n",
            "50000/50000 [==============================] - 4s 82us/step - loss: 0.0399 - acc: 0.9873\n",
            "Epoch 70/100\n",
            "50000/50000 [==============================] - 4s 82us/step - loss: 0.0393 - acc: 0.9880\n",
            "Epoch 71/100\n",
            "50000/50000 [==============================] - 4s 82us/step - loss: 0.0391 - acc: 0.9870\n",
            "Epoch 72/100\n",
            "50000/50000 [==============================] - 4s 80us/step - loss: 0.0302 - acc: 0.9897\n",
            "Epoch 73/100\n",
            "50000/50000 [==============================] - 4s 79us/step - loss: 0.0407 - acc: 0.9865\n",
            "Epoch 74/100\n",
            "50000/50000 [==============================] - 4s 81us/step - loss: 0.0484 - acc: 0.9841\n",
            "Epoch 75/100\n",
            "50000/50000 [==============================] - 4s 82us/step - loss: 0.0338 - acc: 0.9887\n",
            "Epoch 76/100\n",
            "50000/50000 [==============================] - 4s 81us/step - loss: 0.0300 - acc: 0.9904\n",
            "Epoch 77/100\n",
            "50000/50000 [==============================] - 4s 80us/step - loss: 0.0339 - acc: 0.9893\n",
            "Epoch 78/100\n",
            "50000/50000 [==============================] - 4s 81us/step - loss: 0.0337 - acc: 0.9887\n",
            "Epoch 79/100\n",
            "50000/50000 [==============================] - 4s 81us/step - loss: 0.0362 - acc: 0.9881\n",
            "Epoch 80/100\n",
            "50000/50000 [==============================] - 4s 80us/step - loss: 0.0293 - acc: 0.9911\n",
            "Epoch 81/100\n",
            "50000/50000 [==============================] - 4s 81us/step - loss: 0.0358 - acc: 0.9881\n",
            "Epoch 82/100\n",
            "50000/50000 [==============================] - 4s 81us/step - loss: 0.0437 - acc: 0.9860\n",
            "Epoch 83/100\n",
            "50000/50000 [==============================] - 4s 81us/step - loss: 0.0328 - acc: 0.9897\n",
            "Epoch 84/100\n",
            "50000/50000 [==============================] - 4s 81us/step - loss: 0.0250 - acc: 0.9920\n",
            "Epoch 85/100\n",
            "50000/50000 [==============================] - 4s 80us/step - loss: 0.0338 - acc: 0.9888\n",
            "Epoch 86/100\n",
            "50000/50000 [==============================] - 4s 80us/step - loss: 0.0361 - acc: 0.9883\n",
            "Epoch 87/100\n",
            "50000/50000 [==============================] - 4s 81us/step - loss: 0.0419 - acc: 0.9862\n",
            "Epoch 88/100\n",
            "50000/50000 [==============================] - 4s 81us/step - loss: 0.0277 - acc: 0.9909\n",
            "Epoch 89/100\n",
            "50000/50000 [==============================] - 4s 81us/step - loss: 0.0272 - acc: 0.9911\n",
            "Epoch 90/100\n",
            "50000/50000 [==============================] - 4s 82us/step - loss: 0.0329 - acc: 0.9884\n",
            "Epoch 91/100\n",
            "50000/50000 [==============================] - 4s 80us/step - loss: 0.0334 - acc: 0.9896\n",
            "Epoch 92/100\n",
            "50000/50000 [==============================] - 4s 81us/step - loss: 0.0270 - acc: 0.9918\n",
            "Epoch 93/100\n",
            "50000/50000 [==============================] - 4s 81us/step - loss: 0.0342 - acc: 0.9891\n",
            "Epoch 94/100\n",
            "50000/50000 [==============================] - 4s 82us/step - loss: 0.0288 - acc: 0.9905\n",
            "Epoch 95/100\n",
            "50000/50000 [==============================] - 4s 82us/step - loss: 0.0315 - acc: 0.9899\n",
            "Epoch 96/100\n",
            "50000/50000 [==============================] - 4s 80us/step - loss: 0.0345 - acc: 0.9893\n",
            "Epoch 97/100\n",
            "50000/50000 [==============================] - 4s 81us/step - loss: 0.0188 - acc: 0.9942\n",
            "Epoch 98/100\n",
            "50000/50000 [==============================] - 4s 83us/step - loss: 0.0238 - acc: 0.9925\n",
            "Epoch 99/100\n",
            "50000/50000 [==============================] - 4s 82us/step - loss: 0.0352 - acc: 0.9887\n",
            "Epoch 100/100\n",
            "50000/50000 [==============================] - 4s 80us/step - loss: 0.0338 - acc: 0.9897\n"
          ],
          "name": "stdout"
        },
        {
          "output_type": "execute_result",
          "data": {
            "text/plain": [
              "<keras.callbacks.History at 0x7f2ffd756a90>"
            ]
          },
          "metadata": {
            "tags": []
          },
          "execution_count": 8
        }
      ]
    },
    {
      "cell_type": "code",
      "metadata": {
        "id": "zalYQ5nawjXD",
        "colab_type": "code",
        "colab": {
          "base_uri": "https://localhost:8080/",
          "height": 68
        },
        "outputId": "508df097-5a60-48ae-860c-cdf5d784ac90"
      },
      "source": [
        "input_example=(np.zeros(shape=(1,32,32,3))-mean_train)/(std_train+1e-7) \n",
        "classifier.predict(input_example)"
      ],
      "execution_count": 9,
      "outputs": [
        {
          "output_type": "execute_result",
          "data": {
            "text/plain": [
              "array([[1.52698045e-11, 3.45718846e-26, 9.48096658e-06, 9.99990344e-01,\n",
              "        4.94709376e-08, 1.00426064e-07, 1.39788822e-15, 2.28295750e-15,\n",
              "        2.52556560e-24, 3.46637222e-30]], dtype=float32)"
            ]
          },
          "metadata": {
            "tags": []
          },
          "execution_count": 9
        }
      ]
    },
    {
      "cell_type": "code",
      "metadata": {
        "id": "Q00fCGHxxPbP",
        "colab_type": "code",
        "colab": {}
      },
      "source": [
        ""
      ],
      "execution_count": 0,
      "outputs": []
    }
  ]
}